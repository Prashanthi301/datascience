{
  "metadata": {
    "language_info": {
      "file_extension": ".py",
      "mimetype": "text/x-python",
      "name": "python",
      "version": "3.10.2"
    },
    "kernelspec": {
      "name": "xeus-python",
      "display_name": "Python (XPython)",
      "language": "python"
    }
  },
  "nbformat_minor": 4,
  "nbformat": 4,
  "cells": [
    {
      "cell_type": "markdown",
      "source": "# Title of Notebook",
      "metadata": {}
    },
    {
      "cell_type": "markdown",
      "source": "#### DATA SCIENCE",
      "metadata": {}
    },
    {
      "cell_type": "markdown",
      "source": "# Introduction",
      "metadata": {}
    },
    {
      "cell_type": "markdown",
      "source": "##### An empty jupyterlite notebook has been given and asked us to create the markdown cells.\n##### Few guidelines were given to follow.",
      "metadata": {}
    },
    {
      "cell_type": "markdown",
      "source": "# <p>List of Data Science Languages:</p>\n#### <p>&nbsp; &nbsp; 1.Python</p>\n#### <p>&nbsp; &nbsp; 2.R</p>\n#### <p>&nbsp; &nbsp; 3.SQL</p>\n#### <p>&nbsp; &nbsp; 4.Java</p>\n#### <p>&nbsp; &nbsp; 5.Julia</p>\n#### <p>&nbsp; &nbsp; 6.Scala</p>\n#### <p>&nbsp; &nbsp; 7.C++</p>\n#### <p>&nbsp; &nbsp; 8.Javascript</p>\n",
      "metadata": {}
    },
    {
      "cell_type": "markdown",
      "source": "# <p>List of data science libraries</p>\n#### <p>&nbsp; &nbsp; 1.Tensor flow</p>\n#### <p>&nbsp; &nbsp; 2.NumPy</p>\n#### <p>&nbsp; &nbsp; 3.Pandas</p>\n#### <p>&nbsp; &nbsp; 4.Matplotlib</p>\n#### <p>&nbsp; &nbsp; 5.PyTorch</p>",
      "metadata": {}
    },
    {
      "cell_type": "markdown",
      "source": "# Table of data science tools",
      "metadata": {}
    },
    {
      "cell_type": "markdown",
      "source": "| SI NO | Data Science Tools | \n| --- | --- |\n| 1 | SAS |",
      "metadata": {}
    },
    {
      "cell_type": "markdown",
      "source": "# Few Examples of Arithematic Expressions :-",
      "metadata": {}
    },
    {
      "cell_type": "code",
      "source": "code = compile(\"3 + 2\", \"<string>\", \"eval\")\neval(code)",
      "metadata": {
        "trusted": true
      },
      "execution_count": 3,
      "outputs": [
        {
          "execution_count": 3,
          "output_type": "execute_result",
          "data": {
            "text/plain": "5"
          },
          "metadata": {}
        }
      ]
    },
    {
      "cell_type": "code",
      "source": "code1 = compile(\"2 * 2\", \"<string>\", \"eval\")\neval(code1)",
      "metadata": {
        "trusted": true
      },
      "execution_count": 4,
      "outputs": [
        {
          "execution_count": 4,
          "output_type": "execute_result",
          "data": {
            "text/plain": "4"
          },
          "metadata": {}
        }
      ]
    },
    {
      "cell_type": "markdown",
      "source": "# Multiply and add numbers :-",
      "metadata": {}
    },
    {
      "cell_type": "code",
      "source": "(2*3*2)+1",
      "metadata": {
        "trusted": true
      },
      "execution_count": 5,
      "outputs": [
        {
          "execution_count": 5,
          "output_type": "execute_result",
          "data": {
            "text/plain": "13"
          },
          "metadata": {}
        }
      ]
    },
    {
      "cell_type": "markdown",
      "source": "# Convert minutes to hours",
      "metadata": {}
    },
    {
      "cell_type": "code",
      "source": "days = 0\nhours = 0\nmins = 0\n\ntime = 60\nleftover_minutes = time % 1440\nhours = leftover_minutes / 60\nprint(str(days) + \" days, \" + str(hours) + \" hours, \" + str(mins) +  \" mins. \")",
      "metadata": {
        "trusted": true
      },
      "execution_count": 9,
      "outputs": [
        {
          "name": "stdout",
          "text": "0 days, 1.0 hours, 0 mins. \n",
          "output_type": "stream"
        }
      ]
    },
    {
      "cell_type": "markdown",
      "source": "# List objectives",
      "metadata": {}
    },
    {
      "cell_type": "markdown",
      "source": "#### <p>&nbsp; &nbsp; * List popular languages that Data Scientists use.</p>\n#### <p>&nbsp; &nbsp; * List commonly used libraries used by Data Scientists.</p>\n#### <p>&nbsp; &nbsp; * Comment on Data Science tools.</p>",
      "metadata": {}
    },
    {
      "cell_type": "markdown",
      "source": "# Author's Name",
      "metadata": {}
    },
    {
      "cell_type": "markdown",
      "source": "#### M Prashanthi",
      "metadata": {}
    },
    {
      "cell_type": "code",
      "source": "",
      "metadata": {},
      "execution_count": null,
      "outputs": []
    }
  ]
}